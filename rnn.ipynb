{
 "cells": [
  {
   "cell_type": "code",
   "execution_count": 20,
   "metadata": {},
   "outputs": [
    {
     "data": {
      "text/plain": [
       "Array([11., 11., 11., 11., 11., 11., 11., 11., 11., 11.], dtype=float32)"
      ]
     },
     "execution_count": 20,
     "metadata": {},
     "output_type": "execute_result"
    }
   ],
   "source": [
    "import jax\n",
    "import jax.numpy as jnp\n",
    "from jaxtyping import Array, Float, jaxtyped, Int\n",
    "from beartype import beartype as typechecker\n",
    "# from typeguard import typechecked as typechecker\n",
    "from equinox import Module as JaxClass\n",
    "\n",
    "\n",
    "@jaxtyped\n",
    "@typechecker\n",
    "class Parameters(JaxClass):\n",
    "    embedding_weights: Float[Array, \"hidden_state embedding\"]\n",
    "    hidden_state_weights: Float[Array, \"hidden_state hidden_state\"]\n",
    "    output_weights: Float[Array, \"embedding hidden_state\"]\n",
    "    hidden_state_bias: Float[Array, \"hidden_state\"]\n",
    "    output_bias: Float[Array, \"embedding\"]\n",
    "\n",
    "e = 3\n",
    "h = 10\n",
    "\n",
    "init_pars = Parameters(jnp.ones((h,e)), jnp.ones((h,h)), jnp.ones((e,h)), jnp.ones((h,)), jnp.ones((e,)))\n",
    "init_state = jnp.ones((h,))\n",
    "random_embed = jnp.zeros((e,)).at[3].set(1)  # technically random one-hot, need the embedding matrix...\n",
    "\n",
    "@jax.jit\n",
    "@jaxtyped\n",
    "@typechecker\n",
    "def update_hidden_state(\n",
    "    embedding: Float[Array, \"embedding\"], \n",
    "    hidden_state: Float[Array, \"hidden_state\"], \n",
    "    params: Parameters\n",
    ") -> Float[Array, \"hidden_state\"]:\n",
    "    return jax.nn.relu(params.hidden_state_weights @ hidden_state + params.embedding_weights @ embedding + params.hidden_state_bias)\n",
    "\n",
    "update_hidden_state(random_embed, init_state, init_pars)"
   ]
  },
  {
   "cell_type": "code",
   "execution_count": 30,
   "metadata": {},
   "outputs": [
    {
     "ename": "BeartypeCallHintParamViolation",
     "evalue": "Function __main__.loss() parameter next_embedding=\"Traced<ShapedArray(int32[3])>with<DynamicJaxprTrace(level=1/0)>\" violates type hint <class 'jaxtyping.Float[Array, 'embedding']'>, as <protocol \"jax._src.interpreters.partial_eval.DynamicJaxprTracer\"> \"Traced<ShapedArray(int32[3])>with<DynamicJaxprTrace(level=1/0)>\" not instance of <class \"jaxtyping.Float[Array, 'embedding']\">.",
     "output_type": "error",
     "traceback": [
      "\u001b[0;31m---------------------------------------------------------------------------\u001b[0m",
      "\u001b[0;31mBeartypeCallHintParamViolation\u001b[0m            Traceback (most recent call last)",
      "Cell \u001b[0;32mIn[30], line 21\u001b[0m\n\u001b[1;32m     11\u001b[0m \u001b[39m@jax\u001b[39m\u001b[39m.\u001b[39mjit\n\u001b[1;32m     12\u001b[0m \u001b[39m@jaxtyped\u001b[39m\n\u001b[1;32m     13\u001b[0m \u001b[39m@typechecker\u001b[39m\n\u001b[0;32m   (...)\u001b[0m\n\u001b[1;32m     17\u001b[0m ) \u001b[39m-\u001b[39m\u001b[39m>\u001b[39m \u001b[39mfloat\u001b[39m:\n\u001b[1;32m     18\u001b[0m     \u001b[39m# index the softmax probs at the word of interest\u001b[39;00m\n\u001b[1;32m     19\u001b[0m     \u001b[39mreturn\u001b[39;00m \u001b[39m-\u001b[39mjnp\u001b[39m.\u001b[39mlog(output[next_embedding\u001b[39m.\u001b[39mastype(\u001b[39m\"\u001b[39m\u001b[39mbool\u001b[39m\u001b[39m\"\u001b[39m)])[\u001b[39m0\u001b[39m]\n\u001b[0;32m---> 21\u001b[0m loss(jnp\u001b[39m.\u001b[39;49marray([\u001b[39m0\u001b[39;49m,\u001b[39m0.2\u001b[39;49m,\u001b[39m0.8\u001b[39;49m]), jnp\u001b[39m.\u001b[39;49marray([\u001b[39m0\u001b[39;49m,\u001b[39m1\u001b[39;49m,\u001b[39m0\u001b[39;49m]))\n",
      "    \u001b[0;31m[... skipping hidden 12 frame]\u001b[0m\n",
      "File \u001b[0;32m~/code/jax-rnn/venv2/lib/python3.8/site-packages/jaxtyping/decorator.py:78\u001b[0m, in \u001b[0;36mjaxtyped.<locals>.wrapped_fn\u001b[0;34m(*args, **kwargs)\u001b[0m\n\u001b[1;32m     76\u001b[0m memo_stack\u001b[39m.\u001b[39mappend(({}, {}, {}))\n\u001b[1;32m     77\u001b[0m \u001b[39mtry\u001b[39;00m:\n\u001b[0;32m---> 78\u001b[0m     \u001b[39mreturn\u001b[39;00m fn(\u001b[39m*\u001b[39;49margs, \u001b[39m*\u001b[39;49m\u001b[39m*\u001b[39;49mkwargs)\n\u001b[1;32m     79\u001b[0m \u001b[39mfinally\u001b[39;00m:\n\u001b[1;32m     80\u001b[0m     memo_stack\u001b[39m.\u001b[39mpop()\n",
      "File \u001b[0;32m<@beartype(__main__.loss) at 0x16ba8e5e0>:42\u001b[0m, in \u001b[0;36mloss\u001b[0;34m(__beartype_func, __beartype_conf, __beartype_get_violation, __beartype_object_4342485424, *args, **kwargs)\u001b[0m\n",
      "\u001b[0;31mBeartypeCallHintParamViolation\u001b[0m: Function __main__.loss() parameter next_embedding=\"Traced<ShapedArray(int32[3])>with<DynamicJaxprTrace(level=1/0)>\" violates type hint <class 'jaxtyping.Float[Array, 'embedding']'>, as <protocol \"jax._src.interpreters.partial_eval.DynamicJaxprTracer\"> \"Traced<ShapedArray(int32[3])>with<DynamicJaxprTrace(level=1/0)>\" not instance of <class \"jaxtyping.Float[Array, 'embedding']\">."
     ]
    }
   ],
   "source": [
    "@jax.jit\n",
    "@jaxtyped\n",
    "@typechecker\n",
    "def output(\n",
    "    hidden_state: Float[Array, \"hidden_state\"], \n",
    "    params: Parameters\n",
    ") -> Float[Array, \"embedding\"]:\n",
    "    return jax.nn.softmax(params.output_weights @ hidden_state + params.output_bias)\n",
    "\n",
    "\n",
    "@jax.jit\n",
    "@jaxtyped\n",
    "@typechecker\n",
    "def loss(\n",
    "    output: Float[Array, \"embedding\"],\n",
    "    next_embedding: Float[Array, \"embedding\"] \n",
    ") -> float:\n",
    "    # index the softmax probs at the word of interest\n",
    "    return -jnp.log(output[next_embedding.astype(\"bool\")])[0]\n",
    "\n",
    "loss(jnp.array([0,0.2,0.8]), jnp.array([0,1,0]))"
   ]
  },
  {
   "cell_type": "code",
   "execution_count": 18,
   "metadata": {},
   "outputs": [
    {
     "data": {
      "text/plain": [
       "Array(4, dtype=int32)"
      ]
     },
     "execution_count": 18,
     "metadata": {},
     "output_type": "execute_result"
    }
   ],
   "source": [
    "jnp.array([2,3,4,5])[jnp.array([0,0,1,0]).astype(\"bool\")][0]"
   ]
  },
  {
   "cell_type": "code",
   "execution_count": 72,
   "metadata": {},
   "outputs": [
    {
     "data": {
      "text/plain": [
       "Array([[ 465, 1934, 2130,  767,  966],\n",
       "       [ 618,  759,  987,  464,  704],\n",
       "       [ 558,  459, 1406,  991, 2187],\n",
       "       ...,\n",
       "       [ 767, 1078,  735, 1987,  926],\n",
       "       [ 704, 1876,  427, 1783, 2403],\n",
       "       [1934,  624,  914,  558, 1966]], dtype=int32)"
      ]
     },
     "execution_count": 72,
     "metadata": {},
     "output_type": "execute_result"
    }
   ],
   "source": [
    "import re\n",
    "file_name = 'bee-movie-names.txt'\n",
    "\n",
    "with open(file_name, 'r+') as file:\n",
    "    all_text = file.read()\n",
    "    all_text = all_text.replace('\\n', ' ').replace('  : ', '')\n",
    "    \n",
    "# Define a regular expression pattern to match all punctuation marks\n",
    "punctuation_pattern = r'[^\\w\\s]'\n",
    "\n",
    "# Define a regular expression pattern to match words with apostrophes\n",
    "apostrophe_pattern = r'\\w+(?:\\'\\w+)?'\n",
    "\n",
    "# Combine the two patterns to match all tokens\n",
    "token_pattern = punctuation_pattern + '|' + apostrophe_pattern\n",
    "\n",
    "# Split the text into tokens, including words with apostrophes as separate tokens\n",
    "all_words = re.findall(token_pattern, all_text.lower())\n",
    "vocab = list(set(all_words))\n",
    "\n",
    "sentence_length = 5\n",
    "\n",
    "vocab_one_hot_indicies = jnp.array([vocab.index(t) for t in all_words], dtype=jnp.int32)\n",
    "split_indicies = vocab_one_hot_indicies[:(len(vocab)//5)*5].reshape(len(vocab)//5,5)\n",
    "\n",
    "sentence = split_indicies[0]\n",
    "\n",
    "def one_hot_sentence(sentence: Int[Array, \"sentence\"], vocab_size: int) -> Int[Array, \"sentence vocab\"]:\n",
    "    return jnp.array([jnp.zeros((vocab_size,)).at[word].set(1) for word in sentence])"
   ]
  },
  {
   "cell_type": "code",
   "execution_count": null,
   "metadata": {},
   "outputs": [],
   "source": []
  }
 ],
 "metadata": {
  "kernelspec": {
   "display_name": "venv",
   "language": "python",
   "name": "python3"
  },
  "language_info": {
   "codemirror_mode": {
    "name": "ipython",
    "version": 3
   },
   "file_extension": ".py",
   "mimetype": "text/x-python",
   "name": "python",
   "nbconvert_exporter": "python",
   "pygments_lexer": "ipython3",
   "version": "3.8.16"
  },
  "orig_nbformat": 4
 },
 "nbformat": 4,
 "nbformat_minor": 2
}
