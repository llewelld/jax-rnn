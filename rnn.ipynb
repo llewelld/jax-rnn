{
 "cells": [
  {
   "cell_type": "code",
   "execution_count": 12,
   "metadata": {},
   "outputs": [
    {
     "data": {
      "text/plain": [
       "Array([12., 12., 12., 12., 12., 12., 12., 12., 12., 12.], dtype=float32)"
      ]
     },
     "execution_count": 12,
     "metadata": {},
     "output_type": "execute_result"
    }
   ],
   "source": [
    "import jax\n",
    "import jax.numpy as jnp\n",
    "from jaxtyping import Array, Float, jaxtyped\n",
    "from beartype import beartype as typechecker\n",
    "# from typeguard import typechecked as typechecker\n",
    "from equinox import Module as JaxClass\n",
    "\n",
    "\n",
    "@jaxtyped\n",
    "@typechecker\n",
    "class Parameters(JaxClass):\n",
    "    embedding_weights: Float[Array, \"hidden_state embedding\"]\n",
    "    hidden_state_weights: Float[Array, \"hidden_state hidden_state\"]\n",
    "    output_weights: Float[Array, \"embedding hidden_state\"]\n",
    "    hidden_state_bias: Float[Array, \"hidden_state\"]\n",
    "    output_bias: Float[Array, \"embedding\"]\n",
    "\n",
    "e = 23\n",
    "h = 10\n",
    "\n",
    "init_pars = Parameters(jnp.ones((h,e)), jnp.ones((h,h)), jnp.ones((e,h)), jnp.ones((h,)), jnp.ones((e,)))\n",
    "init_state = jnp.ones((h,))\n",
    "random_embed = jnp.zeros((e,)).at[3].set(1)\n",
    "\n",
    "@jax.jit\n",
    "@jaxtyped\n",
    "@typechecker\n",
    "def update_hidden_state(\n",
    "    embedding: Float[Array, \"embedding\"], \n",
    "    hidden_state: Float[Array, \"hidden_state\"], \n",
    "    params: Parameters\n",
    ") -> Float[Array, \"hidden_state\"]:\n",
    "    return jax.nn.relu(params.hidden_state_weights @ hidden_state + params.embedding_weights @ embedding + params.hidden_state_bias)\n",
    "\n",
    "update_hidden_state(random_embed, init_state, init_pars)"
   ]
  },
  {
   "cell_type": "code",
   "execution_count": null,
   "metadata": {},
   "outputs": [],
   "source": [
    "@jax.jit\n",
    "@jaxtyped\n",
    "@typechecker\n",
    "def output(\n",
    "    hidden_state: Float[Array, \"hidden_state\"], \n",
    "    params: Parameters\n",
    ") -> Float[Array, \"embedding\"]:\n",
    "    return jax.nn.softmax(params.output_weights @ hidden_state + params.output_bias)"
   ]
  }
 ],
 "metadata": {
  "kernelspec": {
   "display_name": "venv",
   "language": "python",
   "name": "python3"
  },
  "language_info": {
   "codemirror_mode": {
    "name": "ipython",
    "version": 3
   },
   "file_extension": ".py",
   "mimetype": "text/x-python",
   "name": "python",
   "nbconvert_exporter": "python",
   "pygments_lexer": "ipython3",
   "version": "3.8.16"
  },
  "orig_nbformat": 4
 },
 "nbformat": 4,
 "nbformat_minor": 2
}
